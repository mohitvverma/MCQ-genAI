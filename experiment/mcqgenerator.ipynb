{
 "cells": [
  {
   "cell_type": "code",
   "id": "initial_id",
   "metadata": {
    "collapsed": true,
    "ExecuteTime": {
     "end_time": "2024-04-08T17:31:39.676816Z",
     "start_time": "2024-04-08T17:31:39.672327Z"
    }
   },
   "source": [
    "import os\n",
    "\n",
    "from langchain.llms import AI21\n",
    "from langchain.prompts import PromptTemplate\n",
    "from langchain.chains import SequentialChain\n",
    "from langchain.callbacks import get_openai_callback\n",
    "import streamlit as st\n",
    "\n",
    "\n",
    "from langchain.document_loaders import PyPDFLoader\n",
    "\n",
    "import pandas as pd\n",
    "import traceback              #\n",
    "\n",
    "from dotenv import load_dotenv\n",
    "import json"
   ],
   "outputs": [],
   "execution_count": 55
  },
  {
   "metadata": {
    "ExecuteTime": {
     "end_time": "2024-04-08T17:31:39.723096Z",
     "start_time": "2024-04-08T17:31:39.721242Z"
    }
   },
   "cell_type": "code",
   "source": "# 0ZhUmciGlmjOZ4oGsUesOAQhWrGtpYMJ",
   "id": "2d2699289cd204af",
   "outputs": [],
   "execution_count": 56
  },
  {
   "metadata": {
    "ExecuteTime": {
     "end_time": "2024-04-08T17:31:39.750021Z",
     "start_time": "2024-04-08T17:31:39.746556Z"
    }
   },
   "cell_type": "code",
   "source": [
    "# load the enviroment variable first \n",
    "\n",
    "load_dotenv()"
   ],
   "id": "2e71b898f87e7829",
   "outputs": [
    {
     "data": {
      "text/plain": [
       "True"
      ]
     },
     "execution_count": 57,
     "metadata": {},
     "output_type": "execute_result"
    }
   ],
   "execution_count": 57
  },
  {
   "metadata": {
    "ExecuteTime": {
     "end_time": "2024-04-08T17:31:39.761186Z",
     "start_time": "2024-04-08T17:31:39.759474Z"
    }
   },
   "cell_type": "code",
   "source": [
    "# ai21 API key \n",
    "key = os.getenv(\"AI21_API_KEY\")"
   ],
   "id": "364a4624fac0ffd5",
   "outputs": [],
   "execution_count": 58
  },
  {
   "metadata": {
    "ExecuteTime": {
     "end_time": "2024-04-08T17:31:39.764944Z",
     "start_time": "2024-04-08T17:31:39.762214Z"
    }
   },
   "cell_type": "code",
   "source": "llm = AI21( temperature = 0.8)",
   "id": "cacf9c4a78f88bb3",
   "outputs": [],
   "execution_count": 59
  },
  {
   "metadata": {
    "ExecuteTime": {
     "end_time": "2024-04-08T17:31:39.775318Z",
     "start_time": "2024-04-08T17:31:39.771493Z"
    }
   },
   "cell_type": "code",
   "source": "llm",
   "id": "e357605f1c20f9d7",
   "outputs": [
    {
     "data": {
      "text/plain": [
       "AI21(temperature=0.8, ai21_api_key=SecretStr('**********'))"
      ]
     },
     "execution_count": 60,
     "metadata": {},
     "output_type": "execute_result"
    }
   ],
   "execution_count": 60
  },
  {
   "metadata": {
    "ExecuteTime": {
     "end_time": "2024-04-08T17:31:39.787144Z",
     "start_time": "2024-04-08T17:31:39.783557Z"
    }
   },
   "cell_type": "code",
   "source": [
    "# Output format of the project\n",
    "\n",
    "RESPONSE_JSON = {\n",
    "    \"1\": {\n",
    "        \"mcq\": \"multiple choice question\",\n",
    "        \"options\": {\n",
    "            \"a\": \"choice here\",\n",
    "            \"b\": \"choice here\",\n",
    "            \"c\": \"choice here\",\n",
    "            \"d\": \"choice here\",\n",
    "        },\n",
    "        \"correct\": \"correct answer\",\n",
    "    },\n",
    "    \"2\": {\n",
    "        \"mcq\": \"multiple choice question\",\n",
    "        \"options\": {\n",
    "            \"a\": \"choice here\",\n",
    "            \"b\": \"choice here\",\n",
    "            \"c\": \"choice here\",\n",
    "            \"d\": \"choice here\",\n",
    "        },\n",
    "        \"correct\": \"correct answer\",\n",
    "    },\n",
    "    \"3\": {\n",
    "        \"mcq\": \"multiple choice question\",\n",
    "        \"options\": {\n",
    "            \"a\": \"choice here\",\n",
    "            \"b\": \"choice here\",\n",
    "            \"c\": \"choice here\",\n",
    "            \"d\": \"choice here\",\n",
    "        },\n",
    "        \"correct\": \"correct answer\",\n",
    "    },\n",
    "}\n",
    "RESPONSE_JSON"
   ],
   "id": "3e138e82893a85f6",
   "outputs": [
    {
     "data": {
      "text/plain": [
       "{'1': {'mcq': 'multiple choice question',\n",
       "  'options': {'a': 'choice here',\n",
       "   'b': 'choice here',\n",
       "   'c': 'choice here',\n",
       "   'd': 'choice here'},\n",
       "  'correct': 'correct answer'},\n",
       " '2': {'mcq': 'multiple choice question',\n",
       "  'options': {'a': 'choice here',\n",
       "   'b': 'choice here',\n",
       "   'c': 'choice here',\n",
       "   'd': 'choice here'},\n",
       "  'correct': 'correct answer'},\n",
       " '3': {'mcq': 'multiple choice question',\n",
       "  'options': {'a': 'choice here',\n",
       "   'b': 'choice here',\n",
       "   'c': 'choice here',\n",
       "   'd': 'choice here'},\n",
       "  'correct': 'correct answer'}}"
      ]
     },
     "execution_count": 61,
     "metadata": {},
     "output_type": "execute_result"
    }
   ],
   "execution_count": 61
  },
  {
   "metadata": {},
   "cell_type": "raw",
   "source": [
    "with open(\"/Users/mohitverma/Documents/Dcoument/ML/Langchain/MCQ-genAI/response.json\", \"r\") as f:\n",
    "    json_data = json.load(f)"
   ],
   "id": "9a88d2641fff7f0d"
  },
  {
   "metadata": {
    "ExecuteTime": {
     "end_time": "2024-04-08T17:31:39.790652Z",
     "start_time": "2024-04-08T17:31:39.788457Z"
    }
   },
   "cell_type": "code",
   "source": [
    "# Template making\n",
    "# Here, we are giving text, subject tone for hardness level of question, Number of question\n",
    "\n",
    "template = \"\"\"\n",
    "Text: {text}\n",
    "You are expert MCQ maker, Given the above text. It is your job to create a QUIZ of {number} of multiple choice questions for\n",
    "{subject} students in {tone}.\n",
    "Make sure the question are correct and not repeated questions.\n",
    "Make sure the format of your response in RESPONSE_JSON below, use it as a guide.\n",
    "\n",
    "Ensure to make {number} of MCQ's\n",
    "###RESPONSE_JSON\n",
    "{response_json}\n",
    "\n",
    "\"\"\""
   ],
   "id": "4c606bd78de42c4f",
   "outputs": [],
   "execution_count": 62
  },
  {
   "metadata": {
    "ExecuteTime": {
     "end_time": "2024-04-08T17:31:39.802416Z",
     "start_time": "2024-04-08T17:31:39.799647Z"
    }
   },
   "cell_type": "code",
   "source": [
    "prompt_mcq = PromptTemplate(input_variables = ['text','number','subject','tone','response_json'],\n",
    "                  template = template)"
   ],
   "id": "9b15c52d120fb9a7",
   "outputs": [],
   "execution_count": 63
  },
  {
   "metadata": {
    "ExecuteTime": {
     "end_time": "2024-04-08T17:31:39.810896Z",
     "start_time": "2024-04-08T17:31:39.808702Z"
    }
   },
   "cell_type": "code",
   "source": [
    "from langchain.chains import LLMChain\n",
    "\n",
    "generator_chain = LLMChain(llm = llm, prompt = prompt_mcq, output_key = 'quiz')"
   ],
   "id": "758a9fba31d8d2d9",
   "outputs": [],
   "execution_count": 64
  },
  {
   "metadata": {
    "ExecuteTime": {
     "end_time": "2024-04-08T17:31:39.836500Z",
     "start_time": "2024-04-08T17:31:39.833812Z"
    }
   },
   "cell_type": "code",
   "source": [
    "# template for checking the given prompt response\n",
    "\n",
    "\n",
    "template2 = \"\"\"\n",
    "you are exper in english grammar & writer. Given the MCQ question for {subject} students. \\\n",
    "you need to evaluate the complexity of the MCQ question according to the MCQ grammar and complete analysi of the quiz. Only use\n",
    "max 50 words for complexity analysis. If the quiz is not as per the congitive and analytical abilties of the students, update the quiz questions which needs to be changed & change the tone which needs to be changed, which perfectly fits the student\n",
    "abilities. \n",
    "\n",
    "QUIZ MCQ : \n",
    "{quiz}\n",
    "\n",
    "Check from an expert English Writer of the above quiz:\n",
    "\"\"\""
   ],
   "id": "128a890e0198e71f",
   "outputs": [],
   "execution_count": 65
  },
  {
   "metadata": {
    "ExecuteTime": {
     "end_time": "2024-04-08T17:31:39.848133Z",
     "start_time": "2024-04-08T17:31:39.845500Z"
    }
   },
   "cell_type": "code",
   "source": [
    "quiz_evaluate_prompt = PromptTemplate(input_variables = ['subject','quiz'],\n",
    "                                    template = template2)"
   ],
   "id": "fd0772aadddb5d38",
   "outputs": [],
   "execution_count": 66
  },
  {
   "metadata": {
    "ExecuteTime": {
     "end_time": "2024-04-08T17:31:39.853421Z",
     "start_time": "2024-04-08T17:31:39.850564Z"
    }
   },
   "cell_type": "code",
   "source": "review_chain = LLMChain(llm = llm, prompt = quiz_evaluate_prompt,output_key = 'review_llm_chain', verbose = True)",
   "id": "60878d070106150",
   "outputs": [],
   "execution_count": 67
  },
  {
   "metadata": {
    "ExecuteTime": {
     "end_time": "2024-04-08T17:31:39.862344Z",
     "start_time": "2024-04-08T17:31:39.859557Z"
    }
   },
   "cell_type": "code",
   "source": [
    "# Connecting both the chains by Seuential chain\n",
    "\n",
    "eval_chain = SequentialChain(chains = [generator_chain, review_chain], \n",
    "                input_variables = ['text','number','subject','tone','response_json'],\n",
    "                output_variables = ['quiz','review_llm_chain'])"
   ],
   "id": "1b9629e43b77abd3",
   "outputs": [],
   "execution_count": 68
  },
  {
   "metadata": {
    "ExecuteTime": {
     "end_time": "2024-04-08T17:31:39.878752Z",
     "start_time": "2024-04-08T17:31:39.876037Z"
    }
   },
   "cell_type": "code",
   "source": [
    "with open('/Users/mohitverma/Documents/Dcoument/ML/Langchain/MCQ-genAI/sample.txt','r') as f:\n",
    "    Text = f.read()"
   ],
   "id": "791459a9b0fad88d",
   "outputs": [],
   "execution_count": 69
  },
  {
   "metadata": {
    "ExecuteTime": {
     "end_time": "2024-04-08T17:31:39.890340Z",
     "start_time": "2024-04-08T17:31:39.886729Z"
    }
   },
   "cell_type": "code",
   "source": "Text",
   "id": "1a74baef0fc1340f",
   "outputs": [
    {
     "data": {
      "text/plain": [
       "'\\nBones provide the structure for our bodies. The adult human skeleton is made up of 206 bones. These include the bones of the skull, spine (vertebrae), ribs, arms and legs. Bones are made of connective tissue reinforced with calcium and specialised bone cells. Most bones also contain bone marrow, where blood cells are made.\\n\\nBones work with muscles and joints to hold our body together and support freedom of movement. This is called the musculoskeletal system. The skeleton supports and shapes the body and protects delicate internal organs such as the brain, heart and lungs.\\n\\nBones contain most of our body’s calcium supply. The body is constantly building up and breaking down bone tissue as required. Healthy bone needs a balanced diet, regular weight-bearing exercise and the right levels of various hormones.\\n\\n\\nThe human skeleton is made up of 206 bones, including bones of the:\\n\\nSkull – including the jaw bone\\nSpine – cervical, thoracic and lumbar vertebrae, sacrum and tailbone (coccyx)\\nChest – ribs and breastbone (sternum)\\nArms – shoulder blade (scapula), collar bone (clavicle), humerus, radius and ulna\\nHands – wrist bones (carpals), metacarpals and phalanges\\nPelvis – hip bones\\nLegs – thigh bone (femur), kneecap (patella), shin bone (tibia) and fibula\\nFeet – tarsals, metatarsals and phalanges\\n\\n\\nThere are four different types of bone in the human body:\\n\\nLong bone – has a long, thin shape. Examples include the bones of the arms and legs (excluding the wrists, ankles and kneecaps). With the help of muscles, long bones work as levers to permit movement.\\nShort bone – has a squat, cubed shape. Examples include the bones that make up the wrists and the ankles.\\nFlat bone – has a flattened, broad surface. Examples include ribs, shoulder blades, breast bone and skull bones.\\nIrregular bone – has a shape that does not conform to the above three types. Examples include the bones of the spine (vertebrae).\\n\\n\\nThe different layers of bone tissue include:\\n\\nPeriosteum – the dense, tough outer shell that contains blood vessels and nerves\\nCompact or dense tissue – the hard, smooth layer that protects the tissue within\\nSpongy or cancellous tissue – the porous, honeycombed material found inside most bones, which allows the bone to be strong yet lightweight\\nBone marrow – the jelly-like substance found inside the cavities of some bones (including the pelvis) that produces blood cells.\\n'"
      ]
     },
     "execution_count": 70,
     "metadata": {},
     "output_type": "execute_result"
    }
   ],
   "execution_count": 70
  },
  {
   "metadata": {
    "ExecuteTime": {
     "end_time": "2024-04-08T17:33:21.211978Z",
     "start_time": "2024-04-08T17:33:21.205821Z"
    }
   },
   "cell_type": "code",
   "source": [
    " \n",
    "number = 3\n",
    "subject = \"AI\"\n",
    "Tone = 'Hard'\n",
    "response_json = RESPONSE_JSON"
   ],
   "id": "87952cfddcab406a",
   "outputs": [],
   "execution_count": 80
  },
  {
   "metadata": {
    "ExecuteTime": {
     "end_time": "2024-04-08T17:33:21.491403Z",
     "start_time": "2024-04-08T17:33:21.486012Z"
    }
   },
   "cell_type": "code",
   "source": "json.dumps(response_json)",
   "id": "987b305de2678cfa",
   "outputs": [
    {
     "data": {
      "text/plain": [
       "'{\"1\": {\"mcq\": \"multiple choice question\", \"options\": {\"a\": \"choice here\", \"b\": \"choice here\", \"c\": \"choice here\", \"d\": \"choice here\"}, \"correct\": \"correct answer\"}, \"2\": {\"mcq\": \"multiple choice question\", \"options\": {\"a\": \"choice here\", \"b\": \"choice here\", \"c\": \"choice here\", \"d\": \"choice here\"}, \"correct\": \"correct answer\"}, \"3\": {\"mcq\": \"multiple choice question\", \"options\": {\"a\": \"choice here\", \"b\": \"choice here\", \"c\": \"choice here\", \"d\": \"choice here\"}, \"correct\": \"correct answer\"}}'"
      ]
     },
     "execution_count": 81,
     "metadata": {},
     "output_type": "execute_result"
    }
   ],
   "execution_count": 81
  },
  {
   "metadata": {
    "ExecuteTime": {
     "end_time": "2024-04-08T17:33:28.550613Z",
     "start_time": "2024-04-08T17:33:21.739042Z"
    }
   },
   "cell_type": "code",
   "source": [
    "# \n",
    "\n",
    "eval_chain({\"text\": Text,\n",
    "            'number': number, 'subject':subject, 'tone' : Tone, \n",
    "            'response_json' : json.dumps(response_json)} )"
   ],
   "id": "ff5a8d4c314e6b1c",
   "outputs": [
    {
     "name": "stdout",
     "output_type": "stream",
     "text": [
      "\n",
      "\n",
      "\u001B[1m> Entering new LLMChain chain...\u001B[0m\n",
      "Prompt after formatting:\n",
      "\u001B[32;1m\u001B[1;3m\n",
      "you are exper in english grammar & writer. Given the MCQ question for AI students. you need to evaluate the complexity of the MCQ question according to the MCQ grammar and complete analysi of the quiz. Only use\n",
      "max 50 words for complexity analysis. If the quiz is not as per the congitive and analytical abilties of the students, update the quiz questions which needs to be changed & change the tone which needs to be changed, which perfectly fits the student\n",
      "abilities. \n",
      "\n",
      "QUIZ MCQ : \n",
      "{\"1\": {\"mcq\": \"The human skeleton is made up of how many bones?\", \"options\": {\"a\": \"300\", \"b\": \"70\", \"c\": \"206\", \"d\": \"1000\"}, \"correct\": \"c\"},\n",
      "{\"2\": {\"mcq\": \"Short bones have a shape that is similar in length to\", \"options\": {\"a\": \"flat bones\", \"b\": \"long bones\", \"c\": \"irregular bones\", \"d\": \"short bones\"}, \"correct\": \"d\"},\n",
      "{\"3\": {\"mcq\": \"The sacrum and tailbone are part of the\", \"options\": {\"a\": \"leg\", \"b\": \"arm\", \"c\": \"spine\", \"d\": \"skull\"}, \"correct\": \"b\"},\n",
      "}\n",
      "\n",
      "Check from an expert English Writer of the above quiz:\n",
      "\u001B[0m\n",
      "\n",
      "\u001B[1m> Finished chain.\u001B[0m\n"
     ]
    },
    {
     "data": {
      "text/plain": [
       "{'text': '\\nBones provide the structure for our bodies. The adult human skeleton is made up of 206 bones. These include the bones of the skull, spine (vertebrae), ribs, arms and legs. Bones are made of connective tissue reinforced with calcium and specialised bone cells. Most bones also contain bone marrow, where blood cells are made.\\n\\nBones work with muscles and joints to hold our body together and support freedom of movement. This is called the musculoskeletal system. The skeleton supports and shapes the body and protects delicate internal organs such as the brain, heart and lungs.\\n\\nBones contain most of our body’s calcium supply. The body is constantly building up and breaking down bone tissue as required. Healthy bone needs a balanced diet, regular weight-bearing exercise and the right levels of various hormones.\\n\\n\\nThe human skeleton is made up of 206 bones, including bones of the:\\n\\nSkull – including the jaw bone\\nSpine – cervical, thoracic and lumbar vertebrae, sacrum and tailbone (coccyx)\\nChest – ribs and breastbone (sternum)\\nArms – shoulder blade (scapula), collar bone (clavicle), humerus, radius and ulna\\nHands – wrist bones (carpals), metacarpals and phalanges\\nPelvis – hip bones\\nLegs – thigh bone (femur), kneecap (patella), shin bone (tibia) and fibula\\nFeet – tarsals, metatarsals and phalanges\\n\\n\\nThere are four different types of bone in the human body:\\n\\nLong bone – has a long, thin shape. Examples include the bones of the arms and legs (excluding the wrists, ankles and kneecaps). With the help of muscles, long bones work as levers to permit movement.\\nShort bone – has a squat, cubed shape. Examples include the bones that make up the wrists and the ankles.\\nFlat bone – has a flattened, broad surface. Examples include ribs, shoulder blades, breast bone and skull bones.\\nIrregular bone – has a shape that does not conform to the above three types. Examples include the bones of the spine (vertebrae).\\n\\n\\nThe different layers of bone tissue include:\\n\\nPeriosteum – the dense, tough outer shell that contains blood vessels and nerves\\nCompact or dense tissue – the hard, smooth layer that protects the tissue within\\nSpongy or cancellous tissue – the porous, honeycombed material found inside most bones, which allows the bone to be strong yet lightweight\\nBone marrow – the jelly-like substance found inside the cavities of some bones (including the pelvis) that produces blood cells.\\n',\n",
       " 'number': 3,\n",
       " 'subject': 'AI',\n",
       " 'tone': 'Hard',\n",
       " 'response_json': '{\"1\": {\"mcq\": \"multiple choice question\", \"options\": {\"a\": \"choice here\", \"b\": \"choice here\", \"c\": \"choice here\", \"d\": \"choice here\"}, \"correct\": \"correct answer\"}, \"2\": {\"mcq\": \"multiple choice question\", \"options\": {\"a\": \"choice here\", \"b\": \"choice here\", \"c\": \"choice here\", \"d\": \"choice here\"}, \"correct\": \"correct answer\"}, \"3\": {\"mcq\": \"multiple choice question\", \"options\": {\"a\": \"choice here\", \"b\": \"choice here\", \"c\": \"choice here\", \"d\": \"choice here\"}, \"correct\": \"correct answer\"}}',\n",
       " 'quiz': '{\"1\": {\"mcq\": \"The human skeleton is made up of how many bones?\", \"options\": {\"a\": \"300\", \"b\": \"70\", \"c\": \"206\", \"d\": \"1000\"}, \"correct\": \"c\"},\\n{\"2\": {\"mcq\": \"Short bones have a shape that is similar in length to\", \"options\": {\"a\": \"flat bones\", \"b\": \"long bones\", \"c\": \"irregular bones\", \"d\": \"short bones\"}, \"correct\": \"d\"},\\n{\"3\": {\"mcq\": \"The sacrum and tailbone are part of the\", \"options\": {\"a\": \"leg\", \"b\": \"arm\", \"c\": \"spine\", \"d\": \"skull\"}, \"correct\": \"b\"},\\n}',\n",
       " 'review_llm_chain': 'The quiz appears to be relatively basic in terms of English grammar and writing. The sentences are simple and grammatically correct. The questions seem to be aligned with the cognitive abilities of AI students. However, for further analysis, complexities like sentence length, vocabulary choice, and level of ambiguity can be considered. For tone, a more educational and informative style can be adopted to make the quiz more suitable for student abilities.'}"
      ]
     },
     "execution_count": 82,
     "metadata": {},
     "output_type": "execute_result"
    }
   ],
   "execution_count": 82
  },
  {
   "metadata": {
    "ExecuteTime": {
     "end_time": "2024-04-08T17:33:47.900283Z",
     "start_time": "2024-04-08T17:33:40.569401Z"
    }
   },
   "cell_type": "code",
   "source": [
    "# The output is in string, we need this json\n",
    "\n",
    "response = eval_chain({\"text\": Text,\n",
    "            'number': number, 'subject':subject, 'tone' : 'Extremely hard', \n",
    "                    'response_json' : json.dumps(response_json)} )"
   ],
   "id": "56a50258454b1b6c",
   "outputs": [
    {
     "name": "stdout",
     "output_type": "stream",
     "text": [
      "\n",
      "\n",
      "\u001B[1m> Entering new LLMChain chain...\u001B[0m\n",
      "Prompt after formatting:\n",
      "\u001B[32;1m\u001B[1;3m\n",
      "you are exper in english grammar & writer. Given the MCQ question for AI students. you need to evaluate the complexity of the MCQ question according to the MCQ grammar and complete analysi of the quiz. Only use\n",
      "max 50 words for complexity analysis. If the quiz is not as per the congitive and analytical abilties of the students, update the quiz questions which needs to be changed & change the tone which needs to be changed, which perfectly fits the student\n",
      "abilities. \n",
      "\n",
      "QUIZ MCQ : \n",
      "{\n",
      "\"1\": {\n",
      "\"mcq\": \"The human skeleton contains how many bones?\",\n",
      "\"options\": {\n",
      "\"a\": \"0\",\n",
      "\"b\": \"100\",\n",
      "\"c\": \"206\",\n",
      "\"d\": \"1\"\n",
      "},\n",
      "\"correct\": \"206\"\n",
      "},\n",
      "\"2\": {\n",
      "\"mcq\": \"What type of bone contains bone marrow?\",\n",
      "\"options\": {\n",
      "\"a\": \"long\",\n",
      "\"b\": \"short\",\n",
      "\"c\": \"flat\",\n",
      "\"d\": \"irregular\"\n",
      "},\n",
      "\"correct\": \"irregular\"\n",
      "},\n",
      "\"3\": {\n",
      "\"mcq\": \"What are the four main functions of bones?\",\n",
      "\"options\": {\n",
      "\"a\": \"support\",\n",
      "\"b\": \"protection\",\n",
      "\"c\": \"movement\",\n",
      "\"d\": \"storage\"\n",
      "},\n",
      "\"correct\": \"support, protection, movement and storage\"\n",
      "}\n",
      "}\n",
      "\n",
      "Check from an expert English Writer of the above quiz:\n",
      "\u001B[0m\n",
      "\n",
      "\u001B[1m> Finished chain.\u001B[0m\n"
     ]
    }
   ],
   "execution_count": 84
  },
  {
   "metadata": {
    "ExecuteTime": {
     "end_time": "2024-04-08T17:33:47.906397Z",
     "start_time": "2024-04-08T17:33:47.903132Z"
    }
   },
   "cell_type": "code",
   "source": "quiz1 = response.get('quiz')\n",
   "id": "770206983c5c2cc",
   "outputs": [],
   "execution_count": 85
  },
  {
   "metadata": {
    "ExecuteTime": {
     "end_time": "2024-04-08T17:33:59.023952Z",
     "start_time": "2024-04-08T17:33:59.020318Z"
    }
   },
   "cell_type": "code",
   "source": "print(quiz1)",
   "id": "62e2c5e6801065e2",
   "outputs": [
    {
     "name": "stdout",
     "output_type": "stream",
     "text": [
      "{\n",
      "\"1\": {\n",
      "\"mcq\": \"The human skeleton contains how many bones?\",\n",
      "\"options\": {\n",
      "\"a\": \"0\",\n",
      "\"b\": \"100\",\n",
      "\"c\": \"206\",\n",
      "\"d\": \"1\"\n",
      "},\n",
      "\"correct\": \"206\"\n",
      "},\n",
      "\"2\": {\n",
      "\"mcq\": \"What type of bone contains bone marrow?\",\n",
      "\"options\": {\n",
      "\"a\": \"long\",\n",
      "\"b\": \"short\",\n",
      "\"c\": \"flat\",\n",
      "\"d\": \"irregular\"\n",
      "},\n",
      "\"correct\": \"irregular\"\n",
      "},\n",
      "\"3\": {\n",
      "\"mcq\": \"What are the four main functions of bones?\",\n",
      "\"options\": {\n",
      "\"a\": \"support\",\n",
      "\"b\": \"protection\",\n",
      "\"c\": \"movement\",\n",
      "\"d\": \"storage\"\n",
      "},\n",
      "\"correct\": \"support, protection, movement and storage\"\n",
      "}\n",
      "}\n"
     ]
    }
   ],
   "execution_count": 86
  },
  {
   "metadata": {
    "ExecuteTime": {
     "end_time": "2024-04-08T17:34:00.968231Z",
     "start_time": "2024-04-08T17:33:59.375862Z"
    }
   },
   "cell_type": "code",
   "source": "#!pip install simplejson",
   "id": "e0ab2a7d65bce56e",
   "outputs": [
    {
     "name": "stdout",
     "output_type": "stream",
     "text": [
      "Requirement already satisfied: simplejson in /opt/anaconda3/envs/tensorflow/lib/python3.10/site-packages (3.19.2)\r\n"
     ]
    }
   ],
   "execution_count": 87
  },
  {
   "metadata": {
    "ExecuteTime": {
     "end_time": "2024-04-08T17:35:02.006847Z",
     "start_time": "2024-04-08T17:35:01.999515Z"
    }
   },
   "cell_type": "code",
   "source": [
    "import simplejson as json\n",
    "\n",
    "\n",
    "quiz1 = json.loads(quiz1)\n",
    "quiz1"
   ],
   "id": "b3f3b2813ec5e7f8",
   "outputs": [
    {
     "data": {
      "text/plain": [
       "{'1': {'mcq': 'The human skeleton contains how many bones?',\n",
       "  'options': {'a': '0', 'b': '100', 'c': '206', 'd': '1'},\n",
       "  'correct': '206'},\n",
       " '2': {'mcq': 'What type of bone contains bone marrow?',\n",
       "  'options': {'a': 'long', 'b': 'short', 'c': 'flat', 'd': 'irregular'},\n",
       "  'correct': 'irregular'},\n",
       " '3': {'mcq': 'What are the four main functions of bones?',\n",
       "  'options': {'a': 'support',\n",
       "   'b': 'protection',\n",
       "   'c': 'movement',\n",
       "   'd': 'storage'},\n",
       "  'correct': 'support, protection, movement and storage'}}"
      ]
     },
     "execution_count": 92,
     "metadata": {},
     "output_type": "execute_result"
    }
   ],
   "execution_count": 92
  },
  {
   "metadata": {
    "ExecuteTime": {
     "end_time": "2024-04-08T17:34:12.935143Z",
     "start_time": "2024-04-08T17:34:12.931550Z"
    }
   },
   "cell_type": "code",
   "source": "print(quiz.strip())",
   "id": "ec67abc388db218",
   "outputs": [
    {
     "name": "stdout",
     "output_type": "stream",
     "text": [
      "{\n",
      "\"1\": {\n",
      "\"mcq\": \"What is the part of the human skeleton that includes the ribs?\",\n",
      "\"options\": {\"a\": \"spine\", \"b\": \"skull\", \"c\": \"chest\", \"d\": \"arms\"},\n",
      "\"correct\": \"chest\"\n",
      "},\n",
      "\"2\": {\n",
      "\"mcq\": \"What type of bone is the wrist made up of?\",\n",
      "\"options\": {\"a\": \"long bone\", \"b\": \"short bone\", \"c\": \"flat bone\", \"d\": \"irregular bone\"},\n",
      "\"correct\": \"short bone\"\n",
      "},\n",
      "\"3\": {\n",
      "\"mcq\": \"Which of the following bones make up the human spine?\",\n",
      "\"options\": {\"a\": \"cervical vertebrae\", \"b\": \"lumbar vertebrae\", \"c\": \"thoracic vertebrae\", \"d\": \"sacrum\", \"e\": \"coccyx\"},\n",
      "\"correct\": \"cervical, thoracic and lumbar vertebrae, sacrum and tailbone (coccyx)\"\n",
      "},\n",
      "\"4\": {\n",
      "\"mcq\": \"In the human body, which of the following bones contains bone marrow?\",\n",
      "\"options\": {\n"
     ]
    }
   ],
   "execution_count": 89
  },
  {
   "metadata": {
    "ExecuteTime": {
     "end_time": "2024-04-08T17:40:00.277550Z",
     "start_time": "2024-04-08T17:40:00.270158Z"
    }
   },
   "cell_type": "code",
   "source": [
    "table_data = []\n",
    "\n",
    "for key, val in quiz1.items():\n",
    "    mcq = val['mcq']\n",
    "    \n",
    "    options = \"|\".join(\n",
    "        [\n",
    "            f\"{option} : {option_value}\"\n",
    "            for option, option_value in val['options'].items()\n",
    "        ]\n",
    "      )\n",
    "    \n",
    "    correct = val['correct']\n",
    "    table_data.append({\"MCQ\": mcq, \"Choices\": options, \"Correct\": correct})"
   ],
   "id": "27e668aee7dbab74",
   "outputs": [],
   "execution_count": 94
  },
  {
   "metadata": {
    "ExecuteTime": {
     "end_time": "2024-04-08T17:40:08.716576Z",
     "start_time": "2024-04-08T17:40:08.711765Z"
    }
   },
   "cell_type": "code",
   "source": "table_data",
   "id": "81275a9330a4f270",
   "outputs": [
    {
     "data": {
      "text/plain": [
       "[{'MCQ': 'The human skeleton contains how many bones?',\n",
       "  'Choices': 'a : 0|b : 100|c : 206|d : 1',\n",
       "  'Correct': '206'},\n",
       " {'MCQ': 'What type of bone contains bone marrow?',\n",
       "  'Choices': 'a : long|b : short|c : flat|d : irregular',\n",
       "  'Correct': 'irregular'},\n",
       " {'MCQ': 'What are the four main functions of bones?',\n",
       "  'Choices': 'a : support|b : protection|c : movement|d : storage',\n",
       "  'Correct': 'support, protection, movement and storage'}]"
      ]
     },
     "execution_count": 95,
     "metadata": {},
     "output_type": "execute_result"
    }
   ],
   "execution_count": 95
  },
  {
   "metadata": {
    "ExecuteTime": {
     "end_time": "2024-04-08T17:40:43.031093Z",
     "start_time": "2024-04-08T17:40:43.014407Z"
    }
   },
   "cell_type": "code",
   "source": "quiz2 = pd.DataFrame(table_data)",
   "id": "498142f533bafbce",
   "outputs": [],
   "execution_count": 96
  },
  {
   "metadata": {
    "ExecuteTime": {
     "end_time": "2024-04-08T17:41:22.963812Z",
     "start_time": "2024-04-08T17:41:22.947513Z"
    }
   },
   "cell_type": "code",
   "source": "quiz2.to_csv(\"quiz.csv\",index=False)",
   "id": "99be15419b2e0786",
   "outputs": [],
   "execution_count": 97
  },
  {
   "metadata": {
    "ExecuteTime": {
     "end_time": "2024-04-08T17:41:47.886967Z",
     "start_time": "2024-04-08T17:41:47.866550Z"
    }
   },
   "cell_type": "code",
   "source": "pd.read_csv(\"quiz.csv\")",
   "id": "ccf72aa0667de7f3",
   "outputs": [
    {
     "data": {
      "text/plain": [
       "                                           MCQ  \\\n",
       "0  The human skeleton contains how many bones?   \n",
       "1      What type of bone contains bone marrow?   \n",
       "2   What are the four main functions of bones?   \n",
       "\n",
       "                                             Choices  \\\n",
       "0                        a : 0|b : 100|c : 206|d : 1   \n",
       "1          a : long|b : short|c : flat|d : irregular   \n",
       "2  a : support|b : protection|c : movement|d : st...   \n",
       "\n",
       "                                     Correct  \n",
       "0                                        206  \n",
       "1                                  irregular  \n",
       "2  support, protection, movement and storage  "
      ],
      "text/html": [
       "<div>\n",
       "<style scoped>\n",
       "    .dataframe tbody tr th:only-of-type {\n",
       "        vertical-align: middle;\n",
       "    }\n",
       "\n",
       "    .dataframe tbody tr th {\n",
       "        vertical-align: top;\n",
       "    }\n",
       "\n",
       "    .dataframe thead th {\n",
       "        text-align: right;\n",
       "    }\n",
       "</style>\n",
       "<table border=\"1\" class=\"dataframe\">\n",
       "  <thead>\n",
       "    <tr style=\"text-align: right;\">\n",
       "      <th></th>\n",
       "      <th>MCQ</th>\n",
       "      <th>Choices</th>\n",
       "      <th>Correct</th>\n",
       "    </tr>\n",
       "  </thead>\n",
       "  <tbody>\n",
       "    <tr>\n",
       "      <th>0</th>\n",
       "      <td>The human skeleton contains how many bones?</td>\n",
       "      <td>a : 0|b : 100|c : 206|d : 1</td>\n",
       "      <td>206</td>\n",
       "    </tr>\n",
       "    <tr>\n",
       "      <th>1</th>\n",
       "      <td>What type of bone contains bone marrow?</td>\n",
       "      <td>a : long|b : short|c : flat|d : irregular</td>\n",
       "      <td>irregular</td>\n",
       "    </tr>\n",
       "    <tr>\n",
       "      <th>2</th>\n",
       "      <td>What are the four main functions of bones?</td>\n",
       "      <td>a : support|b : protection|c : movement|d : st...</td>\n",
       "      <td>support, protection, movement and storage</td>\n",
       "    </tr>\n",
       "  </tbody>\n",
       "</table>\n",
       "</div>"
      ]
     },
     "execution_count": 98,
     "metadata": {},
     "output_type": "execute_result"
    }
   ],
   "execution_count": 98
  },
  {
   "metadata": {},
   "cell_type": "code",
   "outputs": [],
   "execution_count": null,
   "source": "",
   "id": "25e8a6f7874a90d0"
  }
 ],
 "metadata": {
  "kernelspec": {
   "display_name": "Python 3",
   "language": "python",
   "name": "python3"
  },
  "language_info": {
   "codemirror_mode": {
    "name": "ipython",
    "version": 2
   },
   "file_extension": ".py",
   "mimetype": "text/x-python",
   "name": "python",
   "nbconvert_exporter": "python",
   "pygments_lexer": "ipython2",
   "version": "2.7.6"
  }
 },
 "nbformat": 4,
 "nbformat_minor": 5
}
