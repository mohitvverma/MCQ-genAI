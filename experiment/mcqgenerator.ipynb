{
 "cells": [
  {
   "cell_type": "code",
   "id": "initial_id",
   "metadata": {
    "collapsed": true,
    "ExecuteTime": {
     "end_time": "2024-04-08T05:34:08.735203Z",
     "start_time": "2024-04-08T05:34:07.876093Z"
    }
   },
   "source": [
    "import os\n",
    "\n",
    "from langchain.llms import AI21\n",
    "from langchain.prompts import PromptTemplate\n",
    "from langchain.chains import SequentialChain\n",
    "from langchain.callbacks import get_openai_callback\n",
    "import streamlit as st\n",
    "\n",
    "\n",
    "from langchain.document_loaders import PyPDFLoader\n",
    "\n",
    "import pandas as pd\n",
    "import traceback              #\n",
    "\n",
    "from dotenv import load_dotenv\n",
    "import json"
   ],
   "outputs": [],
   "execution_count": 1
  },
  {
   "metadata": {
    "ExecuteTime": {
     "end_time": "2024-04-08T05:34:08.738022Z",
     "start_time": "2024-04-08T05:34:08.736394Z"
    }
   },
   "cell_type": "code",
   "source": "# 0ZhUmciGlmjOZ4oGsUesOAQhWrGtpYMJ",
   "id": "2d2699289cd204af",
   "outputs": [],
   "execution_count": 2
  },
  {
   "metadata": {
    "ExecuteTime": {
     "end_time": "2024-04-08T05:34:08.742507Z",
     "start_time": "2024-04-08T05:34:08.738589Z"
    }
   },
   "cell_type": "code",
   "source": [
    "# load the enviroment variable first \n",
    "\n",
    "load_dotenv()"
   ],
   "id": "2e71b898f87e7829",
   "outputs": [
    {
     "data": {
      "text/plain": [
       "True"
      ]
     },
     "execution_count": 3,
     "metadata": {},
     "output_type": "execute_result"
    }
   ],
   "execution_count": 3
  },
  {
   "metadata": {
    "ExecuteTime": {
     "end_time": "2024-04-08T05:34:08.744588Z",
     "start_time": "2024-04-08T05:34:08.743177Z"
    }
   },
   "cell_type": "code",
   "source": [
    "# ai21 API key \n",
    "key = os.getenv(\"AI21_API_KEY\")"
   ],
   "id": "364a4624fac0ffd5",
   "outputs": [],
   "execution_count": 4
  },
  {
   "metadata": {
    "ExecuteTime": {
     "end_time": "2024-04-08T05:34:08.749062Z",
     "start_time": "2024-04-08T05:34:08.746423Z"
    }
   },
   "cell_type": "code",
   "source": "llm = AI21( temperature = 0.8)",
   "id": "cacf9c4a78f88bb3",
   "outputs": [],
   "execution_count": 5
  },
  {
   "metadata": {
    "ExecuteTime": {
     "end_time": "2024-04-08T05:34:08.752187Z",
     "start_time": "2024-04-08T05:34:08.749745Z"
    }
   },
   "cell_type": "code",
   "source": "llm",
   "id": "e357605f1c20f9d7",
   "outputs": [
    {
     "data": {
      "text/plain": [
       "AI21(temperature=0.8, ai21_api_key=SecretStr('**********'))"
      ]
     },
     "execution_count": 6,
     "metadata": {},
     "output_type": "execute_result"
    }
   ],
   "execution_count": 6
  },
  {
   "metadata": {
    "ExecuteTime": {
     "end_time": "2024-04-08T05:34:08.756801Z",
     "start_time": "2024-04-08T05:34:08.752997Z"
    }
   },
   "cell_type": "code",
   "source": [
    "# Output format of the project\n",
    "\n",
    "RESPONSE_JSON = {\n",
    "    \"1\": {\n",
    "        \"mcq\": \"multiple choice question\",\n",
    "        \"options\": {\n",
    "            \"a\": \"choice here\",\n",
    "            \"b\": \"choice here\",\n",
    "            \"c\": \"choice here\",\n",
    "            \"d\": \"choice here\",\n",
    "        },\n",
    "        \"correct\": \"correct answer\",\n",
    "    },\n",
    "    \"2\": {\n",
    "        \"mcq\": \"multiple choice question\",\n",
    "        \"options\": {\n",
    "            \"a\": \"choice here\",\n",
    "            \"b\": \"choice here\",\n",
    "            \"c\": \"choice here\",\n",
    "            \"d\": \"choice here\",\n",
    "        },\n",
    "        \"correct\": \"correct answer\",\n",
    "    },\n",
    "    \"3\": {\n",
    "        \"mcq\": \"multiple choice question\",\n",
    "        \"options\": {\n",
    "            \"a\": \"choice here\",\n",
    "            \"b\": \"choice here\",\n",
    "            \"c\": \"choice here\",\n",
    "            \"d\": \"choice here\",\n",
    "        },\n",
    "        \"correct\": \"correct answer\",\n",
    "    },\n",
    "}\n",
    "RESPONSE_JSON"
   ],
   "id": "3e138e82893a85f6",
   "outputs": [
    {
     "data": {
      "text/plain": [
       "{'1': {'mcq': 'multiple choice question',\n",
       "  'options': {'a': 'choice here',\n",
       "   'b': 'choice here',\n",
       "   'c': 'choice here',\n",
       "   'd': 'choice here'},\n",
       "  'correct': 'correct answer'},\n",
       " '2': {'mcq': 'multiple choice question',\n",
       "  'options': {'a': 'choice here',\n",
       "   'b': 'choice here',\n",
       "   'c': 'choice here',\n",
       "   'd': 'choice here'},\n",
       "  'correct': 'correct answer'},\n",
       " '3': {'mcq': 'multiple choice question',\n",
       "  'options': {'a': 'choice here',\n",
       "   'b': 'choice here',\n",
       "   'c': 'choice here',\n",
       "   'd': 'choice here'},\n",
       "  'correct': 'correct answer'}}"
      ]
     },
     "execution_count": 7,
     "metadata": {},
     "output_type": "execute_result"
    }
   ],
   "execution_count": 7
  },
  {
   "metadata": {},
   "cell_type": "raw",
   "source": [
    "with open(\"/Users/mohitverma/Documents/Dcoument/ML/Langchain/MCQ-genAI/response.json\", \"r\") as f:\n",
    "    json_data = json.load(f)"
   ],
   "id": "9a88d2641fff7f0d"
  },
  {
   "metadata": {
    "ExecuteTime": {
     "end_time": "2024-04-08T05:34:08.759529Z",
     "start_time": "2024-04-08T05:34:08.757588Z"
    }
   },
   "cell_type": "code",
   "source": [
    "# Template making\n",
    "# Here, we are giving text, subject tone for hardness level of question, Number of question\n",
    "\n",
    "template = \"\"\"\n",
    "Text: {text}\n",
    "You are expert MCQ maker, Given the above text. It is your job to create a QUIZ of {number} of multiple choice questions for\n",
    "{subject} students in {tone}.\n",
    "Make sure the question are correct and not repeated questions.\n",
    "Make sure the format of your response in RESPONSE_JSON below, use it as a guide.\n",
    "\n",
    "Ensure to make {number} of MCQ's\n",
    "###RESPONSE_JSON\n",
    "{response_json}\n",
    "\n",
    "\"\"\""
   ],
   "id": "4c606bd78de42c4f",
   "outputs": [],
   "execution_count": 8
  },
  {
   "metadata": {
    "ExecuteTime": {
     "end_time": "2024-04-08T05:35:51.784247Z",
     "start_time": "2024-04-08T05:35:51.779265Z"
    }
   },
   "cell_type": "code",
   "source": [
    "prompt_mcq = PromptTemplate(input_variables = ['text','number','subject','tone','response_json'],\n",
    "                  template = template)"
   ],
   "id": "9b15c52d120fb9a7",
   "outputs": [],
   "execution_count": 21
  },
  {
   "metadata": {
    "ExecuteTime": {
     "end_time": "2024-04-08T05:35:51.999251Z",
     "start_time": "2024-04-08T05:35:51.995704Z"
    }
   },
   "cell_type": "code",
   "source": [
    "from langchain.chains import LLMChain\n",
    "\n",
    "generator_chain = LLMChain(llm = llm, prompt = prompt_mcq, output_key = 'quiz')"
   ],
   "id": "758a9fba31d8d2d9",
   "outputs": [],
   "execution_count": 22
  },
  {
   "metadata": {
    "ExecuteTime": {
     "end_time": "2024-04-08T05:35:52.182549Z",
     "start_time": "2024-04-08T05:35:52.179102Z"
    }
   },
   "cell_type": "code",
   "source": [
    "# template for checking the given prompt response\n",
    "\n",
    "\n",
    "template2 = \"\"\"\n",
    "you are exper in english grammar & writer. Given the MCQ question for {subject} students. \\\n",
    "you need to evaluate the complexity of the MCQ question according to the MCQ grammar and complete analysi of the quiz. Only use\n",
    "max 50 words for complexity analysis. If the quiz is not as per the congitive and analytical abilties of the students, update the quiz questions which needs to be changed & change the tone which needs to be changed, which perfectly fits the student\n",
    "abilities. \n",
    "\n",
    "QUIZ MCQ : \n",
    "{quiz}\n",
    "\n",
    "Check from an expert English Writer of the above quiz:\n",
    "\"\"\""
   ],
   "id": "128a890e0198e71f",
   "outputs": [],
   "execution_count": 23
  },
  {
   "metadata": {
    "ExecuteTime": {
     "end_time": "2024-04-08T05:35:52.362714Z",
     "start_time": "2024-04-08T05:35:52.360564Z"
    }
   },
   "cell_type": "code",
   "source": [
    "quiz_evaluate_prompt = PromptTemplate(input_variables = ['subject','quiz'],\n",
    "                                    template = template2)"
   ],
   "id": "fd0772aadddb5d38",
   "outputs": [],
   "execution_count": 24
  },
  {
   "metadata": {
    "ExecuteTime": {
     "end_time": "2024-04-08T05:35:52.539590Z",
     "start_time": "2024-04-08T05:35:52.536869Z"
    }
   },
   "cell_type": "code",
   "source": "review_chain = LLMChain(llm = llm, prompt = quiz_evaluate_prompt,output_key = 'review_llm_chain', verbose = True)",
   "id": "60878d070106150",
   "outputs": [],
   "execution_count": 25
  },
  {
   "metadata": {
    "ExecuteTime": {
     "end_time": "2024-04-08T05:52:25.446844Z",
     "start_time": "2024-04-08T05:52:25.442965Z"
    }
   },
   "cell_type": "code",
   "source": [
    "# Connecting both the chains by Seuential chain\n",
    "\n",
    "eval_chain = SequentialChain(chains = [generator_chain, review_chain], \n",
    "                input_variables = ['text','number','subject','tone','response_json'],\n",
    "                output_variables = ['quiz','review_llm_chain'])"
   ],
   "id": "1b9629e43b77abd3",
   "outputs": [],
   "execution_count": 41
  },
  {
   "metadata": {
    "ExecuteTime": {
     "end_time": "2024-04-08T05:50:06.333068Z",
     "start_time": "2024-04-08T05:50:06.329364Z"
    }
   },
   "cell_type": "code",
   "source": [
    "with open('/Users/mohitverma/Documents/Dcoument/ML/Langchain/MCQ-genAI/sample.txt','r') as f:\n",
    "    Text = f.read()"
   ],
   "id": "791459a9b0fad88d",
   "outputs": [],
   "execution_count": 34
  },
  {
   "metadata": {
    "ExecuteTime": {
     "end_time": "2024-04-08T05:50:08.325427Z",
     "start_time": "2024-04-08T05:50:08.320311Z"
    }
   },
   "cell_type": "code",
   "source": "Text",
   "id": "1a74baef0fc1340f",
   "outputs": [
    {
     "data": {
      "text/plain": [
       "'\\nBones provide the structure for our bodies. The adult human skeleton is made up of 206 bones. These include the bones of the skull, spine (vertebrae), ribs, arms and legs. Bones are made of connective tissue reinforced with calcium and specialised bone cells. Most bones also contain bone marrow, where blood cells are made.\\n\\nBones work with muscles and joints to hold our body together and support freedom of movement. This is called the musculoskeletal system. The skeleton supports and shapes the body and protects delicate internal organs such as the brain, heart and lungs.\\n\\nBones contain most of our body’s calcium supply. The body is constantly building up and breaking down bone tissue as required. Healthy bone needs a balanced diet, regular weight-bearing exercise and the right levels of various hormones.\\n\\n\\nThe human skeleton is made up of 206 bones, including bones of the:\\n\\nSkull – including the jaw bone\\nSpine – cervical, thoracic and lumbar vertebrae, sacrum and tailbone (coccyx)\\nChest – ribs and breastbone (sternum)\\nArms – shoulder blade (scapula), collar bone (clavicle), humerus, radius and ulna\\nHands – wrist bones (carpals), metacarpals and phalanges\\nPelvis – hip bones\\nLegs – thigh bone (femur), kneecap (patella), shin bone (tibia) and fibula\\nFeet – tarsals, metatarsals and phalanges\\n\\n\\nThere are four different types of bone in the human body:\\n\\nLong bone – has a long, thin shape. Examples include the bones of the arms and legs (excluding the wrists, ankles and kneecaps). With the help of muscles, long bones work as levers to permit movement.\\nShort bone – has a squat, cubed shape. Examples include the bones that make up the wrists and the ankles.\\nFlat bone – has a flattened, broad surface. Examples include ribs, shoulder blades, breast bone and skull bones.\\nIrregular bone – has a shape that does not conform to the above three types. Examples include the bones of the spine (vertebrae).\\n\\n\\nThe different layers of bone tissue include:\\n\\nPeriosteum – the dense, tough outer shell that contains blood vessels and nerves\\nCompact or dense tissue – the hard, smooth layer that protects the tissue within\\nSpongy or cancellous tissue – the porous, honeycombed material found inside most bones, which allows the bone to be strong yet lightweight\\nBone marrow – the jelly-like substance found inside the cavities of some bones (including the pelvis) that produces blood cells.\\n'"
      ]
     },
     "execution_count": 35,
     "metadata": {},
     "output_type": "execute_result"
    }
   ],
   "execution_count": 35
  },
  {
   "metadata": {
    "ExecuteTime": {
     "end_time": "2024-04-08T05:50:09.073423Z",
     "start_time": "2024-04-08T05:50:09.070232Z"
    }
   },
   "cell_type": "code",
   "source": [
    "Text \n",
    "number = 4\n",
    "subject = \"AI\"\n",
    "Tone = 'Hard'\n",
    "response_json = RESPONSE_JSON"
   ],
   "id": "87952cfddcab406a",
   "outputs": [],
   "execution_count": 36
  },
  {
   "metadata": {
    "ExecuteTime": {
     "end_time": "2024-04-08T05:55:18.146693Z",
     "start_time": "2024-04-08T05:55:08.640749Z"
    }
   },
   "cell_type": "code",
   "source": [
    "# \n",
    "\n",
    "eval_chain({\"text\": Text,\n",
    "            'number': number, 'subject':subject, 'tone' : Tone, 'response_json' : response_json} )"
   ],
   "id": "ff5a8d4c314e6b1c",
   "outputs": [
    {
     "name": "stdout",
     "output_type": "stream",
     "text": [
      "\n",
      "\n",
      "\u001B[1m> Entering new LLMChain chain...\u001B[0m\n",
      "Prompt after formatting:\n",
      "\u001B[32;1m\u001B[1;3m\n",
      "you are exper in english grammar & writer. Given the MCQ question for AI students. you need to evaluate the complexity of the MCQ question according to the MCQ grammar and complete analysi of the quiz. Only use\n",
      "max 50 words for complexity analysis. If the quiz is not as per the congitive and analytical abilties of the students, update the quiz questions which needs to be changed & change the tone which needs to be changed, which perfectly fits the student\n",
      "abilities. \n",
      "\n",
      "QUIZ MCQ : \n",
      "{\n",
      "  \"1\": {\n",
      "    \"mcq\": \"How many bones are in the human body?\",\n",
      "    \"options\": {\n",
      "      \"a\": \"1\",\n",
      "      \"b\": \"2\",\n",
      "      \"c\": \"3\",\n",
      "      \"d\": \"206\"\n",
      "    },\n",
      "    \"correct\": \"206\"\n",
      "  },\n",
      "  \"2\": {\n",
      "    \"mcq\": \"What type of bone has a long, thin shape?\",\n",
      "    \"options\": {\n",
      "      \"a\": \"long\",\n",
      "      \"b\": \"short\",\n",
      "      \"c\": \"flat\",\n",
      "      \"d\": \"irregular\"\n",
      "    },\n",
      "    \"correct\": \"long\"\n",
      "  },\n",
      "  \"3\": {\n",
      "    \"mcq\": \"What are the layers of bone tissue?\",\n",
      "    \"options\": {\n",
      "      \"a\": \"Periosteum, Compact tissue, Spongy tissue, Bone marrow\",\n",
      "      \"b\": \"Compact tissue, Spongy tissue, Bone marrow, Periosteum\",\n",
      "      \"c\": \"Compact tissue, Spongy tissue, Periosteum, Bone marrow\n",
      "\n",
      "Check from an expert English Writer of the above quiz:\n",
      "\u001B[0m\n",
      "\n",
      "\u001B[1m> Finished chain.\u001B[0m\n"
     ]
    },
    {
     "data": {
      "text/plain": [
       "{'text': '\\nBones provide the structure for our bodies. The adult human skeleton is made up of 206 bones. These include the bones of the skull, spine (vertebrae), ribs, arms and legs. Bones are made of connective tissue reinforced with calcium and specialised bone cells. Most bones also contain bone marrow, where blood cells are made.\\n\\nBones work with muscles and joints to hold our body together and support freedom of movement. This is called the musculoskeletal system. The skeleton supports and shapes the body and protects delicate internal organs such as the brain, heart and lungs.\\n\\nBones contain most of our body’s calcium supply. The body is constantly building up and breaking down bone tissue as required. Healthy bone needs a balanced diet, regular weight-bearing exercise and the right levels of various hormones.\\n\\n\\nThe human skeleton is made up of 206 bones, including bones of the:\\n\\nSkull – including the jaw bone\\nSpine – cervical, thoracic and lumbar vertebrae, sacrum and tailbone (coccyx)\\nChest – ribs and breastbone (sternum)\\nArms – shoulder blade (scapula), collar bone (clavicle), humerus, radius and ulna\\nHands – wrist bones (carpals), metacarpals and phalanges\\nPelvis – hip bones\\nLegs – thigh bone (femur), kneecap (patella), shin bone (tibia) and fibula\\nFeet – tarsals, metatarsals and phalanges\\n\\n\\nThere are four different types of bone in the human body:\\n\\nLong bone – has a long, thin shape. Examples include the bones of the arms and legs (excluding the wrists, ankles and kneecaps). With the help of muscles, long bones work as levers to permit movement.\\nShort bone – has a squat, cubed shape. Examples include the bones that make up the wrists and the ankles.\\nFlat bone – has a flattened, broad surface. Examples include ribs, shoulder blades, breast bone and skull bones.\\nIrregular bone – has a shape that does not conform to the above three types. Examples include the bones of the spine (vertebrae).\\n\\n\\nThe different layers of bone tissue include:\\n\\nPeriosteum – the dense, tough outer shell that contains blood vessels and nerves\\nCompact or dense tissue – the hard, smooth layer that protects the tissue within\\nSpongy or cancellous tissue – the porous, honeycombed material found inside most bones, which allows the bone to be strong yet lightweight\\nBone marrow – the jelly-like substance found inside the cavities of some bones (including the pelvis) that produces blood cells.\\n',\n",
       " 'number': 4,\n",
       " 'subject': 'AI',\n",
       " 'tone': 'Hard',\n",
       " 'response_json': {'1': {'mcq': 'multiple choice question',\n",
       "   'options': {'a': 'choice here',\n",
       "    'b': 'choice here',\n",
       "    'c': 'choice here',\n",
       "    'd': 'choice here'},\n",
       "   'correct': 'correct answer'},\n",
       "  '2': {'mcq': 'multiple choice question',\n",
       "   'options': {'a': 'choice here',\n",
       "    'b': 'choice here',\n",
       "    'c': 'choice here',\n",
       "    'd': 'choice here'},\n",
       "   'correct': 'correct answer'},\n",
       "  '3': {'mcq': 'multiple choice question',\n",
       "   'options': {'a': 'choice here',\n",
       "    'b': 'choice here',\n",
       "    'c': 'choice here',\n",
       "    'd': 'choice here'},\n",
       "   'correct': 'correct answer'}},\n",
       " 'quiz': '{\\n  \"1\": {\\n    \"mcq\": \"How many bones are in the human body?\",\\n    \"options\": {\\n      \"a\": \"1\",\\n      \"b\": \"2\",\\n      \"c\": \"3\",\\n      \"d\": \"206\"\\n    },\\n    \"correct\": \"206\"\\n  },\\n  \"2\": {\\n    \"mcq\": \"What type of bone has a long, thin shape?\",\\n    \"options\": {\\n      \"a\": \"long\",\\n      \"b\": \"short\",\\n      \"c\": \"flat\",\\n      \"d\": \"irregular\"\\n    },\\n    \"correct\": \"long\"\\n  },\\n  \"3\": {\\n    \"mcq\": \"What are the layers of bone tissue?\",\\n    \"options\": {\\n      \"a\": \"Periosteum, Compact tissue, Spongy tissue, Bone marrow\",\\n      \"b\": \"Compact tissue, Spongy tissue, Bone marrow, Periosteum\",\\n      \"c\": \"Compact tissue, Spongy tissue, Periosteum, Bone marrow',\n",
       " 'review_llm_chain': 'The quiz questions appear to be straightforward and do not require advanced knowledge of English grammar. However, the tone may come across as simplistic for AI students. To enhance the quiz, consider incorporating questions that require analytical thinking and a deep understanding of the subject matter. Additionally, the tone can be revised to align with the level of cognitive abilities expected of AI students.'}"
      ]
     },
     "execution_count": 45,
     "metadata": {},
     "output_type": "execute_result"
    }
   ],
   "execution_count": 45
  },
  {
   "metadata": {
    "ExecuteTime": {
     "end_time": "2024-04-08T05:59:04.753394Z",
     "start_time": "2024-04-08T05:58:54.883562Z"
    }
   },
   "cell_type": "code",
   "source": [
    "# The output is in string, we need this json\n",
    "\n",
    "quiz1 = eval_chain({\"text\": Text,\n",
    "            'number': 5, 'subject':subject, 'tone' : 'Extremely hard', 'response_json' : response_json} )"
   ],
   "id": "56a50258454b1b6c",
   "outputs": [
    {
     "name": "stdout",
     "output_type": "stream",
     "text": [
      "\n",
      "\n",
      "\u001B[1m> Entering new LLMChain chain...\u001B[0m\n",
      "Prompt after formatting:\n",
      "\u001B[32;1m\u001B[1;3m\n",
      "you are exper in english grammar & writer. Given the MCQ question for AI students. you need to evaluate the complexity of the MCQ question according to the MCQ grammar and complete analysi of the quiz. Only use\n",
      "max 50 words for complexity analysis. If the quiz is not as per the congitive and analytical abilties of the students, update the quiz questions which needs to be changed & change the tone which needs to be changed, which perfectly fits the student\n",
      "abilities. \n",
      "\n",
      "QUIZ MCQ : \n",
      "{\n",
      "  \"1\": {\n",
      "    \"mcq\": \"The human skeleton is made up of how many bones?\",\n",
      "    \"options\": {\n",
      "      \"a\": \"500\",\n",
      "      \"b\": \"1000\",\n",
      "      \"c\": \"206\",\n",
      "      \"d\": \"100\"\n",
      "    },\n",
      "    \"correct\": \"c\"\n",
      "  },\n",
      "  \"2\": {\n",
      "    \"mcq\": \"What are the four different types of bone in the human body?\",\n",
      "    \"options\": {\n",
      "      \"a\": \"cartilage\",\n",
      "      \"b\": \"flexible\",\n",
      "      \"c\": \"long bone, short bone, flat bone, irregular bone\",\n",
      "      \"d\": \"long bone, short bone, flat bone\"\n",
      "    },\n",
      "    \"correct\": \"c\"\n",
      "  },\n",
      "  \"3\": {\n",
      "    \"mcq\": \"What are the layers of bone tissue?\",\n",
      "    \"options\": {\n",
      "      \"a\": \"bone marrow, dense tissue and spongy or cancellous tissue\",\n",
      "      \"b\": \"bone marrow, dense tissue, spongy or cancellous tissue and periosteum\",\n",
      "      \"c\n",
      "\n",
      "Check from an expert English Writer of the above quiz:\n",
      "\u001B[0m\n",
      "\n",
      "\u001B[1m> Finished chain.\u001B[0m\n"
     ]
    }
   ],
   "execution_count": 46
  },
  {
   "metadata": {
    "ExecuteTime": {
     "end_time": "2024-04-08T06:04:50.947729Z",
     "start_time": "2024-04-08T06:04:50.945095Z"
    }
   },
   "cell_type": "code",
   "source": "quiz = quiz1.get('quiz')\n",
   "id": "770206983c5c2cc",
   "outputs": [],
   "execution_count": 68
  },
  {
   "metadata": {
    "ExecuteTime": {
     "end_time": "2024-04-08T06:04:51.443130Z",
     "start_time": "2024-04-08T06:04:51.440877Z"
    }
   },
   "cell_type": "code",
   "source": "print(quiz.strip())",
   "id": "ec67abc388db218",
   "outputs": [
    {
     "name": "stdout",
     "output_type": "stream",
     "text": [
      "{\n",
      "  \"1\": {\n",
      "    \"mcq\": \"The human skeleton is made up of how many bones?\",\n",
      "    \"options\": {\n",
      "      \"a\": \"500\",\n",
      "      \"b\": \"1000\",\n",
      "      \"c\": \"206\",\n",
      "      \"d\": \"100\"\n",
      "    },\n",
      "    \"correct\": \"c\"\n",
      "  },\n",
      "  \"2\": {\n",
      "    \"mcq\": \"What are the four different types of bone in the human body?\",\n",
      "    \"options\": {\n",
      "      \"a\": \"cartilage\",\n",
      "      \"b\": \"flexible\",\n",
      "      \"c\": \"long bone, short bone, flat bone, irregular bone\",\n",
      "      \"d\": \"long bone, short bone, flat bone\"\n",
      "    },\n",
      "    \"correct\": \"c\"\n",
      "  },\n",
      "  \"3\": {\n",
      "    \"mcq\": \"What are the layers of bone tissue?\",\n",
      "    \"options\": {\n",
      "      \"a\": \"bone marrow, dense tissue and spongy or cancellous tissue\",\n",
      "      \"b\": \"bone marrow, dense tissue, spongy or cancellous tissue and periosteum\",\n",
      "      \"c\n"
     ]
    }
   ],
   "execution_count": 69
  },
  {
   "metadata": {
    "ExecuteTime": {
     "end_time": "2024-04-08T06:04:51.927261Z",
     "start_time": "2024-04-08T06:04:51.923795Z"
    }
   },
   "cell_type": "code",
   "source": "quiz",
   "id": "83fa370a85eecc1f",
   "outputs": [
    {
     "data": {
      "text/plain": [
       "'{\\n  \"1\": {\\n    \"mcq\": \"The human skeleton is made up of how many bones?\",\\n    \"options\": {\\n      \"a\": \"500\",\\n      \"b\": \"1000\",\\n      \"c\": \"206\",\\n      \"d\": \"100\"\\n    },\\n    \"correct\": \"c\"\\n  },\\n  \"2\": {\\n    \"mcq\": \"What are the four different types of bone in the human body?\",\\n    \"options\": {\\n      \"a\": \"cartilage\",\\n      \"b\": \"flexible\",\\n      \"c\": \"long bone, short bone, flat bone, irregular bone\",\\n      \"d\": \"long bone, short bone, flat bone\"\\n    },\\n    \"correct\": \"c\"\\n  },\\n  \"3\": {\\n    \"mcq\": \"What are the layers of bone tissue?\",\\n    \"options\": {\\n      \"a\": \"bone marrow, dense tissue and spongy or cancellous tissue\",\\n      \"b\": \"bone marrow, dense tissue, spongy or cancellous tissue and periosteum\",\\n      \"c'"
      ]
     },
     "execution_count": 70,
     "metadata": {},
     "output_type": "execute_result"
    }
   ],
   "execution_count": 70
  },
  {
   "metadata": {
    "ExecuteTime": {
     "end_time": "2024-04-08T06:04:52.402135Z",
     "start_time": "2024-04-08T06:04:52.390787Z"
    }
   },
   "cell_type": "code",
   "source": [
    "\n",
    "\n",
    "for key, val in quiz.items():\n",
    "    print(key,val)"
   ],
   "id": "27e668aee7dbab74",
   "outputs": [
    {
     "ename": "AttributeError",
     "evalue": "'str' object has no attribute 'items'",
     "output_type": "error",
     "traceback": [
      "\u001B[0;31m---------------------------------------------------------------------------\u001B[0m",
      "\u001B[0;31mAttributeError\u001B[0m                            Traceback (most recent call last)",
      "Cell \u001B[0;32mIn[71], line 1\u001B[0m\n\u001B[0;32m----> 1\u001B[0m \u001B[38;5;28;01mfor\u001B[39;00m key, val \u001B[38;5;129;01min\u001B[39;00m \u001B[43mquiz\u001B[49m\u001B[38;5;241;43m.\u001B[39;49m\u001B[43mitems\u001B[49m():\n\u001B[1;32m      2\u001B[0m     \u001B[38;5;28mprint\u001B[39m(key,val)\n",
      "\u001B[0;31mAttributeError\u001B[0m: 'str' object has no attribute 'items'"
     ]
    }
   ],
   "execution_count": 71
  },
  {
   "metadata": {},
   "cell_type": "code",
   "outputs": [],
   "execution_count": null,
   "source": "",
   "id": "81275a9330a4f270"
  }
 ],
 "metadata": {
  "kernelspec": {
   "display_name": "Python 3",
   "language": "python",
   "name": "python3"
  },
  "language_info": {
   "codemirror_mode": {
    "name": "ipython",
    "version": 2
   },
   "file_extension": ".py",
   "mimetype": "text/x-python",
   "name": "python",
   "nbconvert_exporter": "python",
   "pygments_lexer": "ipython2",
   "version": "2.7.6"
  }
 },
 "nbformat": 4,
 "nbformat_minor": 5
}
